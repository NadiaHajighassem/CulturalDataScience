{
 "cells": [
  {
   "cell_type": "markdown",
   "id": "2460e8ec-91a7-4950-8a62-a374f95e7d01",
   "metadata": {},
   "source": [
    "# Access Token\n"
   ]
  },
  {
   "cell_type": "code",
   "execution_count": null,
   "id": "3c820fc6-7660-45c6-a4d4-8e93221de4ed",
   "metadata": {},
   "outputs": [],
   "source": []
  }
 ],
 "metadata": {
  "kernelspec": {
   "display_name": "Python 3 ",
   "language": "python",
   "name": "python3"
  },
  "language_info": {
   "codemirror_mode": {
    "name": "ipython",
    "version": 3
   },
   "file_extension": ".py",
   "mimetype": "text/x-python",
   "name": "python",
   "nbconvert_exporter": "python",
   "pygments_lexer": "ipython3",
   "version": "3.10.14"
  }
 },
 "nbformat": 4,
 "nbformat_minor": 5
}
