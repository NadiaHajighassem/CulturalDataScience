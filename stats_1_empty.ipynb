{
 "cells": [
  {
   "cell_type": "markdown",
   "id": "1a846cfe-d705-4f1f-866b-b4b370af384d",
   "metadata": {},
   "source": [
    "# Part 1 - The basics"
   ]
  },
  {
   "cell_type": "code",
   "execution_count": 76,
   "id": "794cc2a4-5186-42af-9ba7-d32c7504104e",
   "metadata": {},
   "outputs": [],
   "source": [
    "# install packages\n",
    "#install.packages('pacman')\n",
    "#library(pacman)\n",
    "#remotes::install_gitlab(\"hrbrmstr/hrbrthemes\")\n",
    "\n",
    "pacman::p_load(\"ggplot2\", \"dplyr\")"
   ]
  },
  {
   "cell_type": "markdown",
   "id": "223204e5-f880-46d3-b81f-63e24071759b",
   "metadata": {},
   "source": [
    "R is just a calculator."
   ]
  },
  {
   "cell_type": "code",
   "execution_count": 17,
   "id": "21e221b0-07e2-49e1-b9a9-c3950d59cf3d",
   "metadata": {
    "vscode": {
     "languageId": "r"
    }
   },
   "outputs": [
    {
     "data": {
      "text/html": [
       "7"
      ],
      "text/latex": [
       "7"
      ],
      "text/markdown": [
       "7"
      ],
      "text/plain": [
       "[1] 7"
      ]
     },
     "metadata": {},
     "output_type": "display_data"
    }
   ],
   "source": [
    "4+3"
   ]
  },
  {
   "cell_type": "code",
   "execution_count": 16,
   "id": "265925a8-24b1-497f-ad40-fb97d803ce77",
   "metadata": {
    "vscode": {
     "languageId": "r"
    }
   },
   "outputs": [
    {
     "data": {
      "text/html": [
       "1"
      ],
      "text/latex": [
       "1"
      ],
      "text/markdown": [
       "1"
      ],
      "text/plain": [
       "[1] 1"
      ]
     },
     "metadata": {},
     "output_type": "display_data"
    }
   ],
   "source": [
    "4-3"
   ]
  },
  {
   "cell_type": "markdown",
   "id": "5acd0cf3-6792-4e36-8e68-79c022c09f93",
   "metadata": {},
   "source": [
    "There is special syntax for multiplication and division."
   ]
  },
  {
   "cell_type": "code",
   "execution_count": null,
   "id": "b77555ea-1d89-4527-a565-5c1966606e2d",
   "metadata": {
    "vscode": {
     "languageId": "r"
    }
   },
   "outputs": [],
   "source": [
    "4*3"
   ]
  },
  {
   "cell_type": "code",
   "execution_count": null,
   "id": "ef1d5efe-3dea-40dd-b96c-88ad80fb0a15",
   "metadata": {
    "vscode": {
     "languageId": "r"
    }
   },
   "outputs": [],
   "source": [
    "4/3"
   ]
  },
  {
   "cell_type": "markdown",
   "id": "74e06cd4-c9cc-46cd-91eb-154947ae895a",
   "metadata": {},
   "source": [
    "We can also assign numbers to variables and to operations."
   ]
  },
  {
   "cell_type": "code",
   "execution_count": 13,
   "id": "ffbb4db1-36f8-4371-b860-b9e1136b93b7",
   "metadata": {
    "vscode": {
     "languageId": "r"
    }
   },
   "outputs": [
    {
     "data": {
      "text/html": [
       "7"
      ],
      "text/latex": [
       "7"
      ],
      "text/markdown": [
       "7"
      ],
      "text/plain": [
       "[1] 7"
      ]
     },
     "metadata": {},
     "output_type": "display_data"
    }
   ],
   "source": [
    "a <- 3\n",
    "b <- 4\n",
    "a+b"
   ]
  },
  {
   "cell_type": "markdown",
   "id": "e849af61-59e4-4c22-8359-93fbf214c73b",
   "metadata": {},
   "source": [
    "A function is just something with an input and an output."
   ]
  },
  {
   "cell_type": "code",
   "execution_count": 14,
   "id": "61462036-ed36-4270-a768-fd130530865e",
   "metadata": {
    "vscode": {
     "languageId": "r"
    }
   },
   "outputs": [
    {
     "data": {
      "text/html": [
       "7"
      ],
      "text/latex": [
       "7"
      ],
      "text/markdown": [
       "7"
      ],
      "text/plain": [
       "[1] 7"
      ]
     },
     "metadata": {},
     "output_type": "display_data"
    }
   ],
   "source": [
    "sum(4,3)"
   ]
  },
  {
   "cell_type": "code",
   "execution_count": 15,
   "id": "c5260e87-8683-4e6b-91ab-383c9637aa76",
   "metadata": {
    "vscode": {
     "languageId": "r"
    }
   },
   "outputs": [
    {
     "data": {
      "text/html": [
       "2"
      ],
      "text/latex": [
       "2"
      ],
      "text/markdown": [
       "2"
      ],
      "text/plain": [
       "[1] 2"
      ]
     },
     "metadata": {},
     "output_type": "display_data"
    }
   ],
   "source": [
    "sqrt(4)"
   ]
  },
  {
   "cell_type": "code",
   "execution_count": 18,
   "id": "11c137cb-3fb2-4a4d-8b27-6b59f52739a9",
   "metadata": {
    "vscode": {
     "languageId": "r"
    }
   },
   "outputs": [
    {
     "data": {
      "text/html": [
       "7"
      ],
      "text/latex": [
       "7"
      ],
      "text/markdown": [
       "7"
      ],
      "text/plain": [
       "[1] 7"
      ]
     },
     "metadata": {},
     "output_type": "display_data"
    }
   ],
   "source": [
    "sum(a,b)"
   ]
  },
  {
   "cell_type": "markdown",
   "id": "3e91f7cc-255b-48f4-ab57-eb7391ee4abb",
   "metadata": {},
   "source": [
    "# Part 2 - A bit more advanced"
   ]
  },
  {
   "cell_type": "markdown",
   "id": "248b1114-2884-4f05-bffc-56e160aea5cc",
   "metadata": {},
   "source": [
    "The nice thing about R is that unlike on a calculator, you can keep track of your operations. This is important for reproducing your work, and doing more complicated stuff. Let's look at some of this more complicated stuff!"
   ]
  },
  {
   "cell_type": "markdown",
   "id": "ac06ad57-0aeb-4026-94da-8c7c106cf4f5",
   "metadata": {},
   "source": [
    "We can assign lists of numbers to variables. This is called an array.\n",
    "'c' is just a function. It means 'concatenate'."
   ]
  },
  {
   "cell_type": "code",
   "execution_count": 22,
   "id": "4e6a29ac-95f4-4fb9-990b-8a62069bcd76",
   "metadata": {
    "vscode": {
     "languageId": "r"
    }
   },
   "outputs": [],
   "source": [
    "D <- c(1, 2, 3, 4, 5)\n",
    "E <- c(2, 2, 2, 2, 2)"
   ]
  },
  {
   "cell_type": "markdown",
   "id": "c24e1454-776f-4daf-a99e-25200904b9ee",
   "metadata": {},
   "source": [
    "We can do operations on lists too, the same as for simpler variables.\n",
    "We can make a new variable in the process."
   ]
  },
  {
   "cell_type": "code",
   "execution_count": 24,
   "id": "aba7981c-75e6-4f6d-a5cf-9820890daa6b",
   "metadata": {
    "vscode": {
     "languageId": "r"
    }
   },
   "outputs": [
    {
     "data": {
      "text/html": [
       "<style>\n",
       ".list-inline {list-style: none; margin:0; padding: 0}\n",
       ".list-inline>li {display: inline-block}\n",
       ".list-inline>li:not(:last-child)::after {content: \"\\00b7\"; padding: 0 .5ex}\n",
       "</style>\n",
       "<ol class=list-inline><li>3</li><li>4</li><li>5</li><li>6</li><li>7</li></ol>\n"
      ],
      "text/latex": [
       "\\begin{enumerate*}\n",
       "\\item 3\n",
       "\\item 4\n",
       "\\item 5\n",
       "\\item 6\n",
       "\\item 7\n",
       "\\end{enumerate*}\n"
      ],
      "text/markdown": [
       "1. 3\n",
       "2. 4\n",
       "3. 5\n",
       "4. 6\n",
       "5. 7\n",
       "\n",
       "\n"
      ],
      "text/plain": [
       "[1] 3 4 5 6 7"
      ]
     },
     "metadata": {},
     "output_type": "display_data"
    }
   ],
   "source": [
    "F <- D + E"
   ]
  },
  {
   "cell_type": "markdown",
   "id": "9bc9f880-9552-48c3-9e09-18c606f30a30",
   "metadata": {},
   "source": [
    "To see the output, you need to call the variable directly."
   ]
  },
  {
   "cell_type": "code",
   "execution_count": null,
   "id": "2860fb03-b59f-414b-87a2-7f181486fee2",
   "metadata": {
    "vscode": {
     "languageId": "r"
    }
   },
   "outputs": [],
   "source": [
    "F"
   ]
  },
  {
   "cell_type": "markdown",
   "id": "acfd0860-c27e-4e04-b5ba-ab599b7f9986",
   "metadata": {},
   "source": [
    "We can use other functions to make lists. We can make sequences..."
   ]
  },
  {
   "cell_type": "code",
   "execution_count": 26,
   "id": "df9fb366-73e2-41f9-95ae-dbb3c2cc57c3",
   "metadata": {
    "vscode": {
     "languageId": "r"
    }
   },
   "outputs": [
    {
     "data": {
      "text/html": [
       "<style>\n",
       ".list-inline {list-style: none; margin:0; padding: 0}\n",
       ".list-inline>li {display: inline-block}\n",
       ".list-inline>li:not(:last-child)::after {content: \"\\00b7\"; padding: 0 .5ex}\n",
       "</style>\n",
       "<ol class=list-inline><li>1</li><li>2</li><li>3</li><li>4</li><li>5</li></ol>\n"
      ],
      "text/latex": [
       "\\begin{enumerate*}\n",
       "\\item 1\n",
       "\\item 2\n",
       "\\item 3\n",
       "\\item 4\n",
       "\\item 5\n",
       "\\end{enumerate*}\n"
      ],
      "text/markdown": [
       "1. 1\n",
       "2. 2\n",
       "3. 3\n",
       "4. 4\n",
       "5. 5\n",
       "\n",
       "\n"
      ],
      "text/plain": [
       "[1] 1 2 3 4 5"
      ]
     },
     "metadata": {},
     "output_type": "display_data"
    }
   ],
   "source": [
    "A <- seq(1, 5, 1)"
   ]
  },
  {
   "cell_type": "markdown",
   "id": "2fb47e4b-4003-47a5-b65f-5eb3ce8450a6",
   "metadata": {},
   "source": [
    "...or repeat numbers"
   ]
  },
  {
   "cell_type": "code",
   "execution_count": 28,
   "id": "8a60419c-b130-421d-b220-41465cf63a47",
   "metadata": {
    "vscode": {
     "languageId": "r"
    }
   },
   "outputs": [
    {
     "data": {
      "text/html": [
       "<style>\n",
       ".list-inline {list-style: none; margin:0; padding: 0}\n",
       ".list-inline>li {display: inline-block}\n",
       ".list-inline>li:not(:last-child)::after {content: \"\\00b7\"; padding: 0 .5ex}\n",
       "</style>\n",
       "<ol class=list-inline><li>2</li><li>2</li><li>2</li><li>2</li><li>2</li></ol>\n"
      ],
      "text/latex": [
       "\\begin{enumerate*}\n",
       "\\item 2\n",
       "\\item 2\n",
       "\\item 2\n",
       "\\item 2\n",
       "\\item 2\n",
       "\\end{enumerate*}\n"
      ],
      "text/markdown": [
       "1. 2\n",
       "2. 2\n",
       "3. 2\n",
       "4. 2\n",
       "5. 2\n",
       "\n",
       "\n"
      ],
      "text/plain": [
       "[1] 2 2 2 2 2"
      ]
     },
     "metadata": {},
     "output_type": "display_data"
    }
   ],
   "source": [
    "B <- rep(2,5)\n",
    "B"
   ]
  },
  {
   "cell_type": "markdown",
   "id": "ceb4a06c-2759-42d7-b834-c66398ac717c",
   "metadata": {},
   "source": [
    "We can also generate random lists."
   ]
  },
  {
   "cell_type": "code",
   "execution_count": 31,
   "id": "a0b7baea-94b1-4e6e-8285-fb166af80ca8",
   "metadata": {
    "vscode": {
     "languageId": "r"
    }
   },
   "outputs": [
    {
     "data": {
      "image/png": "[encoded data removed]",
      "text/plain": [
       "plot without title"
      ]
     },
     "metadata": {
      "image/png": {
       "height": 420,
       "width": 420
      }
     },
     "output_type": "display_data"
    }
   ],
   "source": [
    "Weight1 <- runif(30, 60, 120) \n",
    "Weight2 <- runif(30, 80, 140)\n",
    "plot(Weight1)"
   ]
  },
  {
   "cell_type": "markdown",
   "id": "a9b41cdd-8549-426c-a63a-c48eaef7bebb",
   "metadata": {},
   "source": [
    "A uniform distribution is a probability distribution in which all outcomes are equally likely, resulting in a constant probability density across a specified interval."
   ]
  },
  {
   "cell_type": "markdown",
   "id": "79545d3b-fcaa-4cef-8c6b-ede5ac095ebe",
   "metadata": {},
   "source": [
    "If you are unsure about how a function works, there's a built-in way to get help:"
   ]
  },
  {
   "cell_type": "code",
   "execution_count": 32,
   "id": "f032b628-f242-4e9a-a621-b48c232cf34a",
   "metadata": {
    "vscode": {
     "languageId": "r"
    }
   },
   "outputs": [
    {
     "data": {
      "text/html": [
       "\n",
       "<table style=\"width: 100%;\"><tr><td>Uniform {stats}</td><td style=\"text-align: right;\">R Documentation</td></tr></table>\n",
       "\n",
       "<h2>The Uniform Distribution</h2>\n",
       "\n",
       "<h3>Description</h3>\n",
       "\n",
       "<p>These functions provide information about the uniform distribution\n",
       "on the interval from <code>min</code> to <code>max</code>.  <code>dunif</code> gives the\n",
       "density, <code>punif</code> gives the distribution function <code>qunif</code>\n",
       "gives the quantile function and <code>runif</code> generates random\n",
       "deviates.\n",
       "</p>\n",
       "\n",
       "\n",
       "<h3>Usage</h3>\n",
       "\n",
       "<pre><code class='language-R'>dunif(x, min = 0, max = 1, log = FALSE)\n",
       "punif(q, min = 0, max = 1, lower.tail = TRUE, log.p = FALSE)\n",
       "qunif(p, min = 0, max = 1, lower.tail = TRUE, log.p = FALSE)\n",
       "runif(n, min = 0, max = 1)\n",
       "</code></pre>\n",
       "\n",
       "\n",
       "<h3>Arguments</h3>\n",
       "\n",
       "<table>\n",
       "<tr><td><code id=\"x\">x</code>, <code id=\"q\">q</code></td>\n",
       "<td>\n",
       "<p>vector of quantiles.</p>\n",
       "</td></tr>\n",
       "<tr><td><code id=\"p\">p</code></td>\n",
       "<td>\n",
       "<p>vector of probabilities.</p>\n",
       "</td></tr>\n",
       "<tr><td><code id=\"n\">n</code></td>\n",
       "<td>\n",
       "<p>number of observations. If <code>length(n) &gt; 1</code>, the length\n",
       "is taken to be the number required.</p>\n",
       "</td></tr>\n",
       "<tr><td><code id=\"min\">min</code>, <code id=\"max\">max</code></td>\n",
       "<td>\n",
       "<p>lower and upper limits of the distribution.  Must be finite.</p>\n",
       "</td></tr>\n",
       "<tr><td><code id=\"log\">log</code>, <code id=\"log.p\">log.p</code></td>\n",
       "<td>\n",
       "<p>logical; if TRUE, probabilities p are given as log(p).</p>\n",
       "</td></tr>\n",
       "<tr><td><code id=\"lower.tail\">lower.tail</code></td>\n",
       "<td>\n",
       "<p>logical; if TRUE (default), probabilities are\n",
       "<code class=\"reqn\">P[X \\le x]</code>, otherwise, <code class=\"reqn\">P[X &gt; x]</code>.</p>\n",
       "</td></tr>\n",
       "</table>\n",
       "\n",
       "\n",
       "<h3>Details</h3>\n",
       "\n",
       "<p>If <code>min</code> or <code>max</code> are not specified they assume the default\n",
       "values of <code>0</code> and <code>1</code> respectively.\n",
       "</p>\n",
       "<p>The uniform distribution has density\n",
       "</p>\n",
       "<p style=\"text-align: center;\"><code class=\"reqn\">f(x) = \\frac{1}{max-min}</code>\n",
       "</p>\n",
       "\n",
       "<p>for <code class=\"reqn\">min \\le x \\le max</code>.\n",
       "</p>\n",
       "<p>For the case of <code class=\"reqn\">u := min == max</code>, the limit case of\n",
       "<code class=\"reqn\">X \\equiv u</code> is assumed, although there is no density in\n",
       "that case and <code>dunif</code> will return <code>NaN</code> (the error condition).\n",
       "</p>\n",
       "<p><code>runif</code> will not generate either of the extreme values unless\n",
       "<code>max = min</code> or <code>max-min</code> is small compared to <code>min</code>,\n",
       "and in particular not for the default arguments.\n",
       "</p>\n",
       "\n",
       "\n",
       "<h3>Value</h3>\n",
       "\n",
       "<p><code>dunif</code> gives the density,\n",
       "<code>punif</code> gives the distribution function,\n",
       "<code>qunif</code> gives the quantile function, and\n",
       "<code>runif</code> generates random deviates.\n",
       "</p>\n",
       "<p>The length of the result is determined by <code>n</code> for\n",
       "<code>runif</code>, and is the maximum of the lengths of the\n",
       "numerical arguments for the other functions.  \n",
       "</p>\n",
       "<p>The numerical arguments other than <code>n</code> are recycled to the\n",
       "length of the result.  Only the first elements of the logical\n",
       "arguments are used.\n",
       "</p>\n",
       "\n",
       "\n",
       "<h3>Note</h3>\n",
       "\n",
       "<p>The characteristics of output from pseudo-random number generators\n",
       "(such as precision and periodicity) vary widely.  See\n",
       "<code>.Random.seed</code> for more information on <span class=\"rlang\"><b>R</b></span>'s random number\n",
       "generation algorithms.\n",
       "</p>\n",
       "\n",
       "\n",
       "<h3>References</h3>\n",
       "\n",
       "<p>Becker, R. A., Chambers, J. M. and Wilks, A. R. (1988)\n",
       "<em>The New S Language</em>.\n",
       "Wadsworth &amp; Brooks/Cole.\n",
       "</p>\n",
       "\n",
       "\n",
       "<h3>See Also</h3>\n",
       "\n",
       "<p><code>RNG</code> about random number generation in <span class=\"rlang\"><b>R</b></span>.\n",
       "</p>\n",
       "<p>Distributions for other standard distributions.\n",
       "</p>\n",
       "\n",
       "\n",
       "<h3>Examples</h3>\n",
       "\n",
       "<pre><code class='language-R'>u &lt;- runif(20)\n",
       "\n",
       "## The following relations always hold :\n",
       "punif(u) == u\n",
       "dunif(u) == 1\n",
       "\n",
       "var(runif(10000))  #- ~ = 1/12 = .08333\n",
       "</code></pre>\n",
       "\n",
       "<hr /><div style=\"text-align: center;\">[Package <em>stats</em> version 4.4.1 ]</div></main>\n",
       "\n",
       "</div>"
      ],
      "text/latex": [
       "\\inputencoding{utf8}\n",
       "\\HeaderA{Uniform}{The Uniform Distribution}{Uniform}\n",
       "\\aliasA{dunif}{Uniform}{dunif}\n",
       "\\aliasA{punif}{Uniform}{punif}\n",
       "\\aliasA{qunif}{Uniform}{qunif}\n",
       "\\aliasA{runif}{Uniform}{runif}\n",
       "\\keyword{distribution}{Uniform}\n",
       "%\n",
       "\\begin{Description}\n",
       "These functions provide information about the uniform distribution\n",
       "on the interval from \\code{min} to \\code{max}.  \\code{dunif} gives the\n",
       "density, \\code{punif} gives the distribution function \\code{qunif}\n",
       "gives the quantile function and \\code{runif} generates random\n",
       "deviates.\n",
       "\\end{Description}\n",
       "%\n",
       "\\begin{Usage}\n",
       "\\begin{verbatim}\n",
       "dunif(x, min = 0, max = 1, log = FALSE)\n",
       "punif(q, min = 0, max = 1, lower.tail = TRUE, log.p = FALSE)\n",
       "qunif(p, min = 0, max = 1, lower.tail = TRUE, log.p = FALSE)\n",
       "runif(n, min = 0, max = 1)\n",
       "\\end{verbatim}\n",
       "\\end{Usage}\n",
       "%\n",
       "\\begin{Arguments}\n",
       "\\begin{ldescription}\n",
       "\\item[\\code{x}, \\code{q}] vector of quantiles.\n",
       "\\item[\\code{p}] vector of probabilities.\n",
       "\\item[\\code{n}] number of observations. If \\code{length(n) > 1}, the length\n",
       "is taken to be the number required.\n",
       "\\item[\\code{min}, \\code{max}] lower and upper limits of the distribution.  Must be finite.\n",
       "\\item[\\code{log}, \\code{log.p}] logical; if TRUE, probabilities p are given as log(p).\n",
       "\\item[\\code{lower.tail}] logical; if TRUE (default), probabilities are\n",
       "\\eqn{P[X \\le x]}{}, otherwise, \\eqn{P[X > x]}{}.\n",
       "\\end{ldescription}\n",
       "\\end{Arguments}\n",
       "%\n",
       "\\begin{Details}\n",
       "If \\code{min} or \\code{max} are not specified they assume the default\n",
       "values of \\code{0} and \\code{1} respectively.\n",
       "\n",
       "The uniform distribution has density\n",
       "\\deqn{f(x) = \\frac{1}{max-min}}{}\n",
       "for \\eqn{min \\le x \\le max}{}.\n",
       "\n",
       "For the case of \\eqn{u := min == max}{}, the limit case of\n",
       "\\eqn{X \\equiv u}{} is assumed, although there is no density in\n",
       "that case and \\code{dunif} will return \\code{NaN} (the error condition).\n",
       "\n",
       "\\code{runif} will not generate either of the extreme values unless\n",
       "\\code{max = min} or \\code{max-min} is small compared to \\code{min},\n",
       "and in particular not for the default arguments.\n",
       "\\end{Details}\n",
       "%\n",
       "\\begin{Value}\n",
       "\\code{dunif} gives the density,\n",
       "\\code{punif} gives the distribution function,\n",
       "\\code{qunif} gives the quantile function, and\n",
       "\\code{runif} generates random deviates.\n",
       "\n",
       "The length of the result is determined by \\code{n} for\n",
       "\\code{runif}, and is the maximum of the lengths of the\n",
       "numerical arguments for the other functions.  \n",
       "\n",
       "The numerical arguments other than \\code{n} are recycled to the\n",
       "length of the result.  Only the first elements of the logical\n",
       "arguments are used.\n",
       "\\end{Value}\n",
       "%\n",
       "\\begin{Note}\n",
       "The characteristics of output from pseudo-random number generators\n",
       "(such as precision and periodicity) vary widely.  See\n",
       "\\code{\\LinkA{.Random.seed}{.Random.seed}} for more information on \\R{}'s random number\n",
       "generation algorithms.\n",
       "\\end{Note}\n",
       "%\n",
       "\\begin{References}\n",
       "Becker, R. A., Chambers, J. M. and Wilks, A. R. (1988)\n",
       "\\emph{The New S Language}.\n",
       "Wadsworth \\& Brooks/Cole.\n",
       "\\end{References}\n",
       "%\n",
       "\\begin{SeeAlso}\n",
       "\\code{\\LinkA{RNG}{RNG}} about random number generation in \\R{}.\n",
       "\n",
       "\\LinkA{Distributions}{Distributions} for other standard distributions.\n",
       "\\end{SeeAlso}\n",
       "%\n",
       "\\begin{Examples}\n",
       "\\begin{ExampleCode}\n",
       "u <- runif(20)\n",
       "\n",
       "## The following relations always hold :\n",
       "punif(u) == u\n",
       "dunif(u) == 1\n",
       "\n",
       "var(runif(10000))  #- ~ = 1/12 = .08333\n",
       "\\end{ExampleCode}\n",
       "\\end{Examples}"
      ],
      "text/plain": [
       "Uniform                 package:stats                  R Documentation\n",
       "\n",
       "_\bT_\bh_\be _\bU_\bn_\bi_\bf_\bo_\br_\bm _\bD_\bi_\bs_\bt_\br_\bi_\bb_\bu_\bt_\bi_\bo_\bn\n",
       "\n",
       "_\bD_\be_\bs_\bc_\br_\bi_\bp_\bt_\bi_\bo_\bn:\n",
       "\n",
       "     These functions provide information about the uniform distribution\n",
       "     on the interval from ‘min’ to ‘max’.  ‘dunif’ gives the density,\n",
       "     ‘punif’ gives the distribution function ‘qunif’ gives the quantile\n",
       "     function and ‘runif’ generates random deviates.\n",
       "\n",
       "_\bU_\bs_\ba_\bg_\be:\n",
       "\n",
       "     dunif(x, min = 0, max = 1, log = FALSE)\n",
       "     punif(q, min = 0, max = 1, lower.tail = TRUE, log.p = FALSE)\n",
       "     qunif(p, min = 0, max = 1, lower.tail = TRUE, log.p = FALSE)\n",
       "     runif(n, min = 0, max = 1)\n",
       "     \n",
       "_\bA_\br_\bg_\bu_\bm_\be_\bn_\bt_\bs:\n",
       "\n",
       "    x, q: vector of quantiles.\n",
       "\n",
       "       p: vector of probabilities.\n",
       "\n",
       "       n: number of observations. If ‘length(n) > 1’, the length is\n",
       "          taken to be the number required.\n",
       "\n",
       "min, max: lower and upper limits of the distribution.  Must be finite.\n",
       "\n",
       "log, log.p: logical; if TRUE, probabilities p are given as log(p).\n",
       "\n",
       "lower.tail: logical; if TRUE (default), probabilities are P[X <= x],\n",
       "          otherwise, P[X > x].\n",
       "\n",
       "_\bD_\be_\bt_\ba_\bi_\bl_\bs:\n",
       "\n",
       "     If ‘min’ or ‘max’ are not specified they assume the default values\n",
       "     of ‘0’ and ‘1’ respectively.\n",
       "\n",
       "     The uniform distribution has density\n",
       "\n",
       "                             f(x) = 1/(max-min)                         \n",
       "     \n",
       "     for min <= x <= max.\n",
       "\n",
       "     For the case of u := min == max, the limit case of X == u is\n",
       "     assumed, although there is no density in that case and ‘dunif’\n",
       "     will return ‘NaN’ (the error condition).\n",
       "\n",
       "     ‘runif’ will not generate either of the extreme values unless ‘max\n",
       "     = min’ or ‘max-min’ is small compared to ‘min’, and in particular\n",
       "     not for the default arguments.\n",
       "\n",
       "_\bV_\ba_\bl_\bu_\be:\n",
       "\n",
       "     ‘dunif’ gives the density, ‘punif’ gives the distribution\n",
       "     function, ‘qunif’ gives the quantile function, and ‘runif’\n",
       "     generates random deviates.\n",
       "\n",
       "     The length of the result is determined by ‘n’ for ‘runif’, and is\n",
       "     the maximum of the lengths of the numerical arguments for the\n",
       "     other functions.\n",
       "\n",
       "     The numerical arguments other than ‘n’ are recycled to the length\n",
       "     of the result.  Only the first elements of the logical arguments\n",
       "     are used.\n",
       "\n",
       "_\bN_\bo_\bt_\be:\n",
       "\n",
       "     The characteristics of output from pseudo-random number generators\n",
       "     (such as precision and periodicity) vary widely.  See\n",
       "     ‘.Random.seed’ for more information on R's random number\n",
       "     generation algorithms.\n",
       "\n",
       "_\bR_\be_\bf_\be_\br_\be_\bn_\bc_\be_\bs:\n",
       "\n",
       "     Becker, R. A., Chambers, J. M. and Wilks, A. R. (1988) _The New S\n",
       "     Language_.  Wadsworth & Brooks/Cole.\n",
       "\n",
       "_\bS_\be_\be _\bA_\bl_\bs_\bo:\n",
       "\n",
       "     ‘RNG’ about random number generation in R.\n",
       "\n",
       "     Distributions for other standard distributions.\n",
       "\n",
       "_\bE_\bx_\ba_\bm_\bp_\bl_\be_\bs:\n",
       "\n",
       "     u <- runif(20)\n",
       "     \n",
       "     ## The following relations always hold :\n",
       "     punif(u) == u\n",
       "     dunif(u) == 1\n",
       "     \n",
       "     var(runif(10000))  #- ~ = 1/12 = .08333\n",
       "     "
      ]
     },
     "metadata": {},
     "output_type": "display_data"
    }
   ],
   "source": [
    "?runif"
   ]
  },
  {
   "cell_type": "markdown",
   "id": "a2698634-aee6-4790-9067-9a70003b55cb",
   "metadata": {},
   "source": [
    "We don't have to use a uniform distribution. Actually, a normal distribution will be better. Let's do that instead."
   ]
  },
  {
   "cell_type": "code",
   "execution_count": 39,
   "id": "de4a1ed7-b9de-4d1c-aafb-f663ef593c78",
   "metadata": {
    "vscode": {
     "languageId": "r"
    }
   },
   "outputs": [
    {
     "data": {
      "image/png": "[encoded data removed]",
      "text/plain": [
       "Plot with title “Histogram of Weight1”"
      ]
     },
     "metadata": {
      "image/png": {
       "height": 420,
       "width": 420
      }
     },
     "output_type": "display_data"
    }
   ],
   "source": [
    "Weight1 <- rnorm(30, 60, 10)\n",
    "Weight2 <- rnorm(30, 80, 10)\n",
    "\n",
    "hist(Weight1, col = \"pink\")"
   ]
  },
  {
   "cell_type": "markdown",
   "id": "96fb9a30-367e-403a-8058-24b0715b1611",
   "metadata": {},
   "source": [
    "A normal distribution is a symmetric, bell-shaped probability distribution characterized by its mean and standard deviation, where approximately 68% of the data falls within one standard deviation of the mean."
   ]
  },
  {
   "cell_type": "markdown",
   "id": "a1468e8b-d238-4885-9d26-4502e6da5308",
   "metadata": {},
   "source": [
    "We can also make lists of words. This can be useful if our variables are categorical. "
   ]
  },
  {
   "cell_type": "code",
   "execution_count": 42,
   "id": "70879df2-7725-443e-8208-c4954b30a138",
   "metadata": {
    "vscode": {
     "languageId": "r"
    }
   },
   "outputs": [],
   "source": [
    "species1 <- rep(\"Deer\", 30)\n",
    "species2 <- rep(\"Reindeer\", 30)"
   ]
  },
  {
   "cell_type": "markdown",
   "id": "7198b1e8-6298-4fb9-a319-f7f2f723d725",
   "metadata": {},
   "source": [
    "We can also manipulate arrays. This can be necessary for tidying data, and getting it into the right format. We can for example append one array to another. We just use the c() function for this."
   ]
  },
  {
   "cell_type": "code",
   "execution_count": 48,
   "id": "750d9402-c1cc-4866-a00b-3f0e75dfe402",
   "metadata": {
    "vscode": {
     "languageId": "r"
    }
   },
   "outputs": [],
   "source": [
    "Weight <- c(Weight1, Weight2)\n",
    "Species <- c(species1, species2)"
   ]
  },
  {
   "cell_type": "markdown",
   "id": "987c336d-d560-4c57-9d87-eee75a342173",
   "metadata": {},
   "source": [
    "This gives us our weights and species as nice tidy data arrays. We can also organise our data into spreadsheets like excel. These are called data frames in R."
   ]
  },
  {
   "cell_type": "code",
   "execution_count": 49,
   "id": "03134980-2042-4ef6-92fa-930639259b9c",
   "metadata": {
    "vscode": {
     "languageId": "r"
    }
   },
   "outputs": [],
   "source": [
    "DeerStudy <- data.frame(Weight, Species)"
   ]
  },
  {
   "cell_type": "markdown",
   "id": "21b1fbbc-a349-4d17-8452-81cec475d781",
   "metadata": {},
   "source": [
    "You can always take a look at the dataframe by calling it."
   ]
  },
  {
   "cell_type": "code",
   "execution_count": 50,
   "id": "024e2e50-5a68-49f5-8ca3-bf6271649f81",
   "metadata": {
    "vscode": {
     "languageId": "r"
    }
   },
   "outputs": [
    {
     "data": {
      "text/html": [
       "<table class=\"dataframe\">\n",
       "<caption>A data.frame: 60 × 2</caption>\n",
       "<thead>\n",
       "\t<tr><th scope=col>Weight</th><th scope=col>Species</th></tr>\n",
       "\t<tr><th scope=col>&lt;dbl&gt;</th><th scope=col>&lt;chr&gt;</th></tr>\n",
       "</thead>\n",
       "<tbody>\n",
       "\t<tr><td>62.13068</td><td>Deer    </td></tr>\n",
       "\t<tr><td>57.49694</td><td>Deer    </td></tr>\n",
       "\t<tr><td>62.46036</td><td>Deer    </td></tr>\n",
       "\t<tr><td>56.48711</td><td>Deer    </td></tr>\n",
       "\t<tr><td>42.71341</td><td>Deer    </td></tr>\n",
       "\t<tr><td>65.95152</td><td>Deer    </td></tr>\n",
       "\t<tr><td>69.01254</td><td>Deer    </td></tr>\n",
       "\t<tr><td>51.16870</td><td>Deer    </td></tr>\n",
       "\t<tr><td>46.02714</td><td>Deer    </td></tr>\n",
       "\t<tr><td>56.34792</td><td>Deer    </td></tr>\n",
       "\t<tr><td>58.33711</td><td>Deer    </td></tr>\n",
       "\t<tr><td>66.04173</td><td>Deer    </td></tr>\n",
       "\t<tr><td>58.65823</td><td>Deer    </td></tr>\n",
       "\t<tr><td>41.67576</td><td>Deer    </td></tr>\n",
       "\t<tr><td>52.91037</td><td>Deer    </td></tr>\n",
       "\t<tr><td>56.19092</td><td>Deer    </td></tr>\n",
       "\t<tr><td>48.67966</td><td>Deer    </td></tr>\n",
       "\t<tr><td>46.69898</td><td>Deer    </td></tr>\n",
       "\t<tr><td>57.82256</td><td>Deer    </td></tr>\n",
       "\t<tr><td>49.51486</td><td>Deer    </td></tr>\n",
       "\t<tr><td>53.45301</td><td>Deer    </td></tr>\n",
       "\t<tr><td>69.93257</td><td>Deer    </td></tr>\n",
       "\t<tr><td>47.80166</td><td>Deer    </td></tr>\n",
       "\t<tr><td>58.98302</td><td>Deer    </td></tr>\n",
       "\t<tr><td>56.10844</td><td>Deer    </td></tr>\n",
       "\t<tr><td>60.39515</td><td>Deer    </td></tr>\n",
       "\t<tr><td>25.68478</td><td>Deer    </td></tr>\n",
       "\t<tr><td>65.39970</td><td>Deer    </td></tr>\n",
       "\t<tr><td>59.37885</td><td>Deer    </td></tr>\n",
       "\t<tr><td>38.54178</td><td>Deer    </td></tr>\n",
       "\t<tr><td>69.71587</td><td>Reindeer</td></tr>\n",
       "\t<tr><td>71.12137</td><td>Reindeer</td></tr>\n",
       "\t<tr><td>71.51223</td><td>Reindeer</td></tr>\n",
       "\t<tr><td>92.76551</td><td>Reindeer</td></tr>\n",
       "\t<tr><td>77.60181</td><td>Reindeer</td></tr>\n",
       "\t<tr><td>71.15132</td><td>Reindeer</td></tr>\n",
       "\t<tr><td>72.14572</td><td>Reindeer</td></tr>\n",
       "\t<tr><td>88.60442</td><td>Reindeer</td></tr>\n",
       "\t<tr><td>90.27514</td><td>Reindeer</td></tr>\n",
       "\t<tr><td>62.32886</td><td>Reindeer</td></tr>\n",
       "\t<tr><td>99.28666</td><td>Reindeer</td></tr>\n",
       "\t<tr><td>63.83147</td><td>Reindeer</td></tr>\n",
       "\t<tr><td>78.51345</td><td>Reindeer</td></tr>\n",
       "\t<tr><td>83.01887</td><td>Reindeer</td></tr>\n",
       "\t<tr><td>75.17962</td><td>Reindeer</td></tr>\n",
       "\t<tr><td>79.99277</td><td>Reindeer</td></tr>\n",
       "\t<tr><td>83.69482</td><td>Reindeer</td></tr>\n",
       "\t<tr><td>73.76005</td><td>Reindeer</td></tr>\n",
       "\t<tr><td>71.02629</td><td>Reindeer</td></tr>\n",
       "\t<tr><td>73.03290</td><td>Reindeer</td></tr>\n",
       "\t<tr><td>80.81839</td><td>Reindeer</td></tr>\n",
       "\t<tr><td>86.86873</td><td>Reindeer</td></tr>\n",
       "\t<tr><td>84.64924</td><td>Reindeer</td></tr>\n",
       "\t<tr><td>71.74629</td><td>Reindeer</td></tr>\n",
       "\t<tr><td>70.84520</td><td>Reindeer</td></tr>\n",
       "\t<tr><td>82.92594</td><td>Reindeer</td></tr>\n",
       "\t<tr><td>66.17560</td><td>Reindeer</td></tr>\n",
       "\t<tr><td>69.70189</td><td>Reindeer</td></tr>\n",
       "\t<tr><td>76.56614</td><td>Reindeer</td></tr>\n",
       "\t<tr><td>89.69288</td><td>Reindeer</td></tr>\n",
       "</tbody>\n",
       "</table>\n"
      ],
      "text/latex": [
       "A data.frame: 60 × 2\n",
       "\\begin{tabular}{ll}\n",
       " Weight & Species\\\\\n",
       " <dbl> & <chr>\\\\\n",
       "\\hline\n",
       "\t 62.13068 & Deer    \\\\\n",
       "\t 57.49694 & Deer    \\\\\n",
       "\t 62.46036 & Deer    \\\\\n",
       "\t 56.48711 & Deer    \\\\\n",
       "\t 42.71341 & Deer    \\\\\n",
       "\t 65.95152 & Deer    \\\\\n",
       "\t 69.01254 & Deer    \\\\\n",
       "\t 51.16870 & Deer    \\\\\n",
       "\t 46.02714 & Deer    \\\\\n",
       "\t 56.34792 & Deer    \\\\\n",
       "\t 58.33711 & Deer    \\\\\n",
       "\t 66.04173 & Deer    \\\\\n",
       "\t 58.65823 & Deer    \\\\\n",
       "\t 41.67576 & Deer    \\\\\n",
       "\t 52.91037 & Deer    \\\\\n",
       "\t 56.19092 & Deer    \\\\\n",
       "\t 48.67966 & Deer    \\\\\n",
       "\t 46.69898 & Deer    \\\\\n",
       "\t 57.82256 & Deer    \\\\\n",
       "\t 49.51486 & Deer    \\\\\n",
       "\t 53.45301 & Deer    \\\\\n",
       "\t 69.93257 & Deer    \\\\\n",
       "\t 47.80166 & Deer    \\\\\n",
       "\t 58.98302 & Deer    \\\\\n",
       "\t 56.10844 & Deer    \\\\\n",
       "\t 60.39515 & Deer    \\\\\n",
       "\t 25.68478 & Deer    \\\\\n",
       "\t 65.39970 & Deer    \\\\\n",
       "\t 59.37885 & Deer    \\\\\n",
       "\t 38.54178 & Deer    \\\\\n",
       "\t 69.71587 & Reindeer\\\\\n",
       "\t 71.12137 & Reindeer\\\\\n",
       "\t 71.51223 & Reindeer\\\\\n",
       "\t 92.76551 & Reindeer\\\\\n",
       "\t 77.60181 & Reindeer\\\\\n",
       "\t 71.15132 & Reindeer\\\\\n",
       "\t 72.14572 & Reindeer\\\\\n",
       "\t 88.60442 & Reindeer\\\\\n",
       "\t 90.27514 & Reindeer\\\\\n",
       "\t 62.32886 & Reindeer\\\\\n",
       "\t 99.28666 & Reindeer\\\\\n",
       "\t 63.83147 & Reindeer\\\\\n",
       "\t 78.51345 & Reindeer\\\\\n",
       "\t 83.01887 & Reindeer\\\\\n",
       "\t 75.17962 & Reindeer\\\\\n",
       "\t 79.99277 & Reindeer\\\\\n",
       "\t 83.69482 & Reindeer\\\\\n",
       "\t 73.76005 & Reindeer\\\\\n",
       "\t 71.02629 & Reindeer\\\\\n",
       "\t 73.03290 & Reindeer\\\\\n",
       "\t 80.81839 & Reindeer\\\\\n",
       "\t 86.86873 & Reindeer\\\\\n",
       "\t 84.64924 & Reindeer\\\\\n",
       "\t 71.74629 & Reindeer\\\\\n",
       "\t 70.84520 & Reindeer\\\\\n",
       "\t 82.92594 & Reindeer\\\\\n",
       "\t 66.17560 & Reindeer\\\\\n",
       "\t 69.70189 & Reindeer\\\\\n",
       "\t 76.56614 & Reindeer\\\\\n",
       "\t 89.69288 & Reindeer\\\\\n",
       "\\end{tabular}\n"
      ],
      "text/markdown": [
       "\n",
       "A data.frame: 60 × 2\n",
       "\n",
       "| Weight &lt;dbl&gt; | Species &lt;chr&gt; |\n",
       "|---|---|\n",
       "| 62.13068 | Deer     |\n",
       "| 57.49694 | Deer     |\n",
       "| 62.46036 | Deer     |\n",
       "| 56.48711 | Deer     |\n",
       "| 42.71341 | Deer     |\n",
       "| 65.95152 | Deer     |\n",
       "| 69.01254 | Deer     |\n",
       "| 51.16870 | Deer     |\n",
       "| 46.02714 | Deer     |\n",
       "| 56.34792 | Deer     |\n",
       "| 58.33711 | Deer     |\n",
       "| 66.04173 | Deer     |\n",
       "| 58.65823 | Deer     |\n",
       "| 41.67576 | Deer     |\n",
       "| 52.91037 | Deer     |\n",
       "| 56.19092 | Deer     |\n",
       "| 48.67966 | Deer     |\n",
       "| 46.69898 | Deer     |\n",
       "| 57.82256 | Deer     |\n",
       "| 49.51486 | Deer     |\n",
       "| 53.45301 | Deer     |\n",
       "| 69.93257 | Deer     |\n",
       "| 47.80166 | Deer     |\n",
       "| 58.98302 | Deer     |\n",
       "| 56.10844 | Deer     |\n",
       "| 60.39515 | Deer     |\n",
       "| 25.68478 | Deer     |\n",
       "| 65.39970 | Deer     |\n",
       "| 59.37885 | Deer     |\n",
       "| 38.54178 | Deer     |\n",
       "| 69.71587 | Reindeer |\n",
       "| 71.12137 | Reindeer |\n",
       "| 71.51223 | Reindeer |\n",
       "| 92.76551 | Reindeer |\n",
       "| 77.60181 | Reindeer |\n",
       "| 71.15132 | Reindeer |\n",
       "| 72.14572 | Reindeer |\n",
       "| 88.60442 | Reindeer |\n",
       "| 90.27514 | Reindeer |\n",
       "| 62.32886 | Reindeer |\n",
       "| 99.28666 | Reindeer |\n",
       "| 63.83147 | Reindeer |\n",
       "| 78.51345 | Reindeer |\n",
       "| 83.01887 | Reindeer |\n",
       "| 75.17962 | Reindeer |\n",
       "| 79.99277 | Reindeer |\n",
       "| 83.69482 | Reindeer |\n",
       "| 73.76005 | Reindeer |\n",
       "| 71.02629 | Reindeer |\n",
       "| 73.03290 | Reindeer |\n",
       "| 80.81839 | Reindeer |\n",
       "| 86.86873 | Reindeer |\n",
       "| 84.64924 | Reindeer |\n",
       "| 71.74629 | Reindeer |\n",
       "| 70.84520 | Reindeer |\n",
       "| 82.92594 | Reindeer |\n",
       "| 66.17560 | Reindeer |\n",
       "| 69.70189 | Reindeer |\n",
       "| 76.56614 | Reindeer |\n",
       "| 89.69288 | Reindeer |\n",
       "\n"
      ],
      "text/plain": [
       "   Weight   Species \n",
       "1  62.13068 Deer    \n",
       "2  57.49694 Deer    \n",
       "3  62.46036 Deer    \n",
       "4  56.48711 Deer    \n",
       "5  42.71341 Deer    \n",
       "6  65.95152 Deer    \n",
       "7  69.01254 Deer    \n",
       "8  51.16870 Deer    \n",
       "9  46.02714 Deer    \n",
       "10 56.34792 Deer    \n",
       "11 58.33711 Deer    \n",
       "12 66.04173 Deer    \n",
       "13 58.65823 Deer    \n",
       "14 41.67576 Deer    \n",
       "15 52.91037 Deer    \n",
       "16 56.19092 Deer    \n",
       "17 48.67966 Deer    \n",
       "18 46.69898 Deer    \n",
       "19 57.82256 Deer    \n",
       "20 49.51486 Deer    \n",
       "21 53.45301 Deer    \n",
       "22 69.93257 Deer    \n",
       "23 47.80166 Deer    \n",
       "24 58.98302 Deer    \n",
       "25 56.10844 Deer    \n",
       "26 60.39515 Deer    \n",
       "27 25.68478 Deer    \n",
       "28 65.39970 Deer    \n",
       "29 59.37885 Deer    \n",
       "30 38.54178 Deer    \n",
       "31 69.71587 Reindeer\n",
       "32 71.12137 Reindeer\n",
       "33 71.51223 Reindeer\n",
       "34 92.76551 Reindeer\n",
       "35 77.60181 Reindeer\n",
       "36 71.15132 Reindeer\n",
       "37 72.14572 Reindeer\n",
       "38 88.60442 Reindeer\n",
       "39 90.27514 Reindeer\n",
       "40 62.32886 Reindeer\n",
       "41 99.28666 Reindeer\n",
       "42 63.83147 Reindeer\n",
       "43 78.51345 Reindeer\n",
       "44 83.01887 Reindeer\n",
       "45 75.17962 Reindeer\n",
       "46 79.99277 Reindeer\n",
       "47 83.69482 Reindeer\n",
       "48 73.76005 Reindeer\n",
       "49 71.02629 Reindeer\n",
       "50 73.03290 Reindeer\n",
       "51 80.81839 Reindeer\n",
       "52 86.86873 Reindeer\n",
       "53 84.64924 Reindeer\n",
       "54 71.74629 Reindeer\n",
       "55 70.84520 Reindeer\n",
       "56 82.92594 Reindeer\n",
       "57 66.17560 Reindeer\n",
       "58 69.70189 Reindeer\n",
       "59 76.56614 Reindeer\n",
       "60 89.69288 Reindeer"
      ]
     },
     "metadata": {},
     "output_type": "display_data"
    }
   ],
   "source": [
    "DeerStudy"
   ]
  },
  {
   "cell_type": "markdown",
   "id": "9311c1ee-e60f-46b7-a56a-1e15095e59bc",
   "metadata": {},
   "source": [
    "We can look at just the top of this spreadsheet."
   ]
  },
  {
   "cell_type": "code",
   "execution_count": 51,
   "id": "10d529da-ef20-41b9-9ec7-908d2f6a4b69",
   "metadata": {
    "vscode": {
     "languageId": "r"
    }
   },
   "outputs": [
    {
     "data": {
      "text/html": [
       "<table class=\"dataframe\">\n",
       "<caption>A data.frame: 6 × 2</caption>\n",
       "<thead>\n",
       "\t<tr><th></th><th scope=col>Weight</th><th scope=col>Species</th></tr>\n",
       "\t<tr><th></th><th scope=col>&lt;dbl&gt;</th><th scope=col>&lt;chr&gt;</th></tr>\n",
       "</thead>\n",
       "<tbody>\n",
       "\t<tr><th scope=row>1</th><td>62.13068</td><td>Deer</td></tr>\n",
       "\t<tr><th scope=row>2</th><td>57.49694</td><td>Deer</td></tr>\n",
       "\t<tr><th scope=row>3</th><td>62.46036</td><td>Deer</td></tr>\n",
       "\t<tr><th scope=row>4</th><td>56.48711</td><td>Deer</td></tr>\n",
       "\t<tr><th scope=row>5</th><td>42.71341</td><td>Deer</td></tr>\n",
       "\t<tr><th scope=row>6</th><td>65.95152</td><td>Deer</td></tr>\n",
       "</tbody>\n",
       "</table>\n"
      ],
      "text/latex": [
       "A data.frame: 6 × 2\n",
       "\\begin{tabular}{r|ll}\n",
       "  & Weight & Species\\\\\n",
       "  & <dbl> & <chr>\\\\\n",
       "\\hline\n",
       "\t1 & 62.13068 & Deer\\\\\n",
       "\t2 & 57.49694 & Deer\\\\\n",
       "\t3 & 62.46036 & Deer\\\\\n",
       "\t4 & 56.48711 & Deer\\\\\n",
       "\t5 & 42.71341 & Deer\\\\\n",
       "\t6 & 65.95152 & Deer\\\\\n",
       "\\end{tabular}\n"
      ],
      "text/markdown": [
       "\n",
       "A data.frame: 6 × 2\n",
       "\n",
       "| <!--/--> | Weight &lt;dbl&gt; | Species &lt;chr&gt; |\n",
       "|---|---|---|\n",
       "| 1 | 62.13068 | Deer |\n",
       "| 2 | 57.49694 | Deer |\n",
       "| 3 | 62.46036 | Deer |\n",
       "| 4 | 56.48711 | Deer |\n",
       "| 5 | 42.71341 | Deer |\n",
       "| 6 | 65.95152 | Deer |\n",
       "\n"
      ],
      "text/plain": [
       "  Weight   Species\n",
       "1 62.13068 Deer   \n",
       "2 57.49694 Deer   \n",
       "3 62.46036 Deer   \n",
       "4 56.48711 Deer   \n",
       "5 42.71341 Deer   \n",
       "6 65.95152 Deer   "
      ]
     },
     "metadata": {},
     "output_type": "display_data"
    }
   ],
   "source": [
    "head(DeerStudy)"
   ]
  },
  {
   "cell_type": "markdown",
   "id": "21dea1b3-09c3-40f1-91d0-896897eebb3b",
   "metadata": {},
   "source": [
    "We can also pick out specific variables to do stuff to. We use the '$' for this."
   ]
  },
  {
   "cell_type": "code",
   "execution_count": 52,
   "id": "eb8f3359-f073-4ba3-9ac2-0fa26f38e133",
   "metadata": {
    "vscode": {
     "languageId": "r"
    }
   },
   "outputs": [
    {
     "data": {
      "text/html": [
       "<style>\n",
       ".list-inline {list-style: none; margin:0; padding: 0}\n",
       ".list-inline>li {display: inline-block}\n",
       ".list-inline>li:not(:last-child)::after {content: \"\\00b7\"; padding: 0 .5ex}\n",
       "</style>\n",
       "<ol class=list-inline><li>62.1306816453927</li><li>57.4969394233265</li><li>62.4603577924098</li><li>56.48710746922</li><li>42.7134069196474</li><li>65.95152479659</li><li>69.012536632194</li><li>51.1686981869932</li><li>46.0271373998679</li><li>56.347917257473</li><li>58.337107409089</li><li>66.0417343165351</li><li>58.6582308999317</li><li>41.6757630737579</li><li>52.9103681184954</li><li>56.1909233296088</li><li>48.6796590841722</li><li>46.6989773233845</li><li>57.8225587274586</li><li>49.5148564151146</li><li>53.453011632708</li><li>69.9325739290383</li><li>47.8016573774019</li><li>58.9830201852773</li><li>56.1084351584783</li><li>60.3951516638645</li><li>25.6847755847561</li><li>65.3997042940475</li><li>59.3788511846677</li><li>38.5417822025655</li><li>69.7158719351786</li><li>71.1213736612512</li><li>71.5122267691381</li><li>92.765513453443</li><li>77.6018073276927</li><li>71.1513237514913</li><li>72.1457227295112</li><li>88.6044200474383</li><li>90.2751446720243</li><li>62.328858045775</li><li>99.2866640099466</li><li>63.8314652189628</li><li>78.5134534751534</li><li>83.018869268874</li><li>75.1796213584029</li><li>79.9927740940827</li><li>83.6948159325252</li><li>73.7600502000719</li><li>71.0262861378362</li><li>73.0328973889028</li><li>80.818393081551</li><li>86.8687305097871</li><li>84.6492414090656</li><li>71.746292520919</li><li>70.8452047692659</li><li>82.9259370793365</li><li>66.1755975401465</li><li>69.701893524999</li><li>76.5661434535661</li><li>89.6928831664952</li></ol>\n"
      ],
      "text/latex": [
       "\\begin{enumerate*}\n",
       "\\item 62.1306816453927\n",
       "\\item 57.4969394233265\n",
       "\\item 62.4603577924098\n",
       "\\item 56.48710746922\n",
       "\\item 42.7134069196474\n",
       "\\item 65.95152479659\n",
       "\\item 69.012536632194\n",
       "\\item 51.1686981869932\n",
       "\\item 46.0271373998679\n",
       "\\item 56.347917257473\n",
       "\\item 58.337107409089\n",
       "\\item 66.0417343165351\n",
       "\\item 58.6582308999317\n",
       "\\item 41.6757630737579\n",
       "\\item 52.9103681184954\n",
       "\\item 56.1909233296088\n",
       "\\item 48.6796590841722\n",
       "\\item 46.6989773233845\n",
       "\\item 57.8225587274586\n",
       "\\item 49.5148564151146\n",
       "\\item 53.453011632708\n",
       "\\item 69.9325739290383\n",
       "\\item 47.8016573774019\n",
       "\\item 58.9830201852773\n",
       "\\item 56.1084351584783\n",
       "\\item 60.3951516638645\n",
       "\\item 25.6847755847561\n",
       "\\item 65.3997042940475\n",
       "\\item 59.3788511846677\n",
       "\\item 38.5417822025655\n",
       "\\item 69.7158719351786\n",
       "\\item 71.1213736612512\n",
       "\\item 71.5122267691381\n",
       "\\item 92.765513453443\n",
       "\\item 77.6018073276927\n",
       "\\item 71.1513237514913\n",
       "\\item 72.1457227295112\n",
       "\\item 88.6044200474383\n",
       "\\item 90.2751446720243\n",
       "\\item 62.328858045775\n",
       "\\item 99.2866640099466\n",
       "\\item 63.8314652189628\n",
       "\\item 78.5134534751534\n",
       "\\item 83.018869268874\n",
       "\\item 75.1796213584029\n",
       "\\item 79.9927740940827\n",
       "\\item 83.6948159325252\n",
       "\\item 73.7600502000719\n",
       "\\item 71.0262861378362\n",
       "\\item 73.0328973889028\n",
       "\\item 80.818393081551\n",
       "\\item 86.8687305097871\n",
       "\\item 84.6492414090656\n",
       "\\item 71.746292520919\n",
       "\\item 70.8452047692659\n",
       "\\item 82.9259370793365\n",
       "\\item 66.1755975401465\n",
       "\\item 69.701893524999\n",
       "\\item 76.5661434535661\n",
       "\\item 89.6928831664952\n",
       "\\end{enumerate*}\n"
      ],
      "text/markdown": [
       "1. 62.1306816453927\n",
       "2. 57.4969394233265\n",
       "3. 62.4603577924098\n",
       "4. 56.48710746922\n",
       "5. 42.7134069196474\n",
       "6. 65.95152479659\n",
       "7. 69.012536632194\n",
       "8. 51.1686981869932\n",
       "9. 46.0271373998679\n",
       "10. 56.347917257473\n",
       "11. 58.337107409089\n",
       "12. 66.0417343165351\n",
       "13. 58.6582308999317\n",
       "14. 41.6757630737579\n",
       "15. 52.9103681184954\n",
       "16. 56.1909233296088\n",
       "17. 48.6796590841722\n",
       "18. 46.6989773233845\n",
       "19. 57.8225587274586\n",
       "20. 49.5148564151146\n",
       "21. 53.453011632708\n",
       "22. 69.9325739290383\n",
       "23. 47.8016573774019\n",
       "24. 58.9830201852773\n",
       "25. 56.1084351584783\n",
       "26. 60.3951516638645\n",
       "27. 25.6847755847561\n",
       "28. 65.3997042940475\n",
       "29. 59.3788511846677\n",
       "30. 38.5417822025655\n",
       "31. 69.7158719351786\n",
       "32. 71.1213736612512\n",
       "33. 71.5122267691381\n",
       "34. 92.765513453443\n",
       "35. 77.6018073276927\n",
       "36. 71.1513237514913\n",
       "37. 72.1457227295112\n",
       "38. 88.6044200474383\n",
       "39. 90.2751446720243\n",
       "40. 62.328858045775\n",
       "41. 99.2866640099466\n",
       "42. 63.8314652189628\n",
       "43. 78.5134534751534\n",
       "44. 83.018869268874\n",
       "45. 75.1796213584029\n",
       "46. 79.9927740940827\n",
       "47. 83.6948159325252\n",
       "48. 73.7600502000719\n",
       "49. 71.0262861378362\n",
       "50. 73.0328973889028\n",
       "51. 80.818393081551\n",
       "52. 86.8687305097871\n",
       "53. 84.6492414090656\n",
       "54. 71.746292520919\n",
       "55. 70.8452047692659\n",
       "56. 82.9259370793365\n",
       "57. 66.1755975401465\n",
       "58. 69.701893524999\n",
       "59. 76.5661434535661\n",
       "60. 89.6928831664952\n",
       "\n",
       "\n"
      ],
      "text/plain": [
       " [1] 62.13068 57.49694 62.46036 56.48711 42.71341 65.95152 69.01254 51.16870\n",
       " [9] 46.02714 56.34792 58.33711 66.04173 58.65823 41.67576 52.91037 56.19092\n",
       "[17] 48.67966 46.69898 57.82256 49.51486 53.45301 69.93257 47.80166 58.98302\n",
       "[25] 56.10844 60.39515 25.68478 65.39970 59.37885 38.54178 69.71587 71.12137\n",
       "[33] 71.51223 92.76551 77.60181 71.15132 72.14572 88.60442 90.27514 62.32886\n",
       "[41] 99.28666 63.83147 78.51345 83.01887 75.17962 79.99277 83.69482 73.76005\n",
       "[49] 71.02629 73.03290 80.81839 86.86873 84.64924 71.74629 70.84520 82.92594\n",
       "[57] 66.17560 69.70189 76.56614 89.69288"
      ]
     },
     "metadata": {},
     "output_type": "display_data"
    }
   ],
   "source": [
    "DeerStudy$Weight"
   ]
  },
  {
   "cell_type": "markdown",
   "id": "fdc5873a-36a7-4862-9640-213902b19a78",
   "metadata": {},
   "source": [
    "We can also save our spreadsheet."
   ]
  },
  {
   "cell_type": "code",
   "execution_count": 55,
   "id": "7f598794-26c4-4f25-a274-049e1b5e5838",
   "metadata": {
    "vscode": {
     "languageId": "r"
    }
   },
   "outputs": [],
   "source": [
    "save(DeerStudy, file = \"DeerStudy.Rdata\")"
   ]
  },
  {
   "cell_type": "markdown",
   "id": "372cb28c-dcc1-470f-af05-d0cc651d1b5e",
   "metadata": {},
   "source": [
    "# Part 3 - Basic plotting"
   ]
  },
  {
   "cell_type": "markdown",
   "id": "183f8f30-0e1f-45de-9999-f9b31e06b85a",
   "metadata": {},
   "source": [
    "Plotting is very important. It allows you to see relationships between variables. There are different kinds of plots that are useful for different kinds of relationships."
   ]
  },
  {
   "cell_type": "markdown",
   "id": "a17a5ec9-1a42-4ba2-bc41-15632b56468f",
   "metadata": {},
   "source": [
    "If you want to plot something very quickly, base R (when you don't download any extra packages) has some great options."
   ]
  },
  {
   "cell_type": "markdown",
   "id": "4e3d1012-0552-4e5a-9ad6-668825b31d60",
   "metadata": {},
   "source": [
    "To visualize the relationship between two continuous variables, you can use a scatterplot..."
   ]
  },
  {
   "cell_type": "code",
   "execution_count": 58,
   "id": "6d67b8a1-6a17-4e49-854e-a063fcf50a6f",
   "metadata": {
    "vscode": {
     "languageId": "r"
    }
   },
   "outputs": [
    {
     "data": {
      "image/png": "[encoded data removed]",
      "text/plain": [
       "plot without title"
      ]
     },
     "metadata": {
      "image/png": {
       "height": 420,
       "width": 420
      }
     },
     "output_type": "display_data"
    }
   ],
   "source": [
    "plot(D~A)"
   ]
  },
  {
   "cell_type": "markdown",
   "id": "2f4bd725-a55b-4052-bcbe-09e8c8e6b49b",
   "metadata": {},
   "source": [
    "... while boxplots tell you the relationship between categorical and continuous variables."
   ]
  },
  {
   "cell_type": "code",
   "execution_count": 60,
   "id": "544e77c0-1f05-4b15-9a01-97b2bfb32bd9",
   "metadata": {
    "vscode": {
     "languageId": "r"
    }
   },
   "outputs": [
    {
     "data": {
      "image/png": "[encoded data removed]",
      "text/plain": [
       "plot without title"
      ]
     },
     "metadata": {
      "image/png": {
       "height": 420,
       "width": 420
      }
     },
     "output_type": "display_data"
    }
   ],
   "source": [
    "boxplot(Weight ~ Species, col = \"pink\")"
   ]
  },
  {
   "cell_type": "markdown",
   "id": "8a26b67a-2d29-4b1e-a4f7-a09c4fc99c95",
   "metadata": {},
   "source": [
    "The tilde \"~\" is important in R. It can be read to mean \"as a function of\", or \"distributed as\". You will see it again, and you will get used to it. This little syntactic difference is important, because it can allow us to make the same plot using different kinds of data structures. "
   ]
  },
  {
   "cell_type": "markdown",
   "id": "b69a4905-15de-4f77-8805-a12905fb2b9a",
   "metadata": {},
   "source": [
    "These plots are a bit ugly. Even base R can make beautiful plots, you can look at options to fancy plots up using the ?plot command."
   ]
  },
  {
   "cell_type": "markdown",
   "id": "45533359-55d9-494b-967b-d555b3ad2206",
   "metadata": {},
   "source": [
    "A lot of the R community uses a package called ggplot2 to plot. It is very well-documented online and has a lot of options for customization. Packages are like modules in Python. We'll talk a bit more about packages next class. For now, let's just install and load:"
   ]
  },
  {
   "cell_type": "code",
   "execution_count": 64,
   "id": "aabd77ff-acd8-409a-980d-67b97ef71e7d",
   "metadata": {
    "scrolled": true,
    "vscode": {
     "languageId": "r"
    }
   },
   "outputs": [
    {
     "data": {
      "image/png": "[encoded data removed]",
      "text/plain": [
       "plot without title"
      ]
     },
     "metadata": {
      "image/png": {
       "height": 420,
       "width": 420
      }
     },
     "output_type": "display_data"
    }
   ],
   "source": [
    "ggplot(data = DeerStudy, aes(x = Species, y = Weight)) +\n",
    "geom_point()"
   ]
  },
  {
   "cell_type": "code",
   "execution_count": 79,
   "id": "f75d56cf-57b3-4789-b072-11a88be731f0",
   "metadata": {
    "vscode": {
     "languageId": "r"
    }
   },
   "outputs": [
    {
     "data": {
      "image/png": "[encoded data removed]",
      "text/plain": [
       "plot without title"
      ]
     },
     "metadata": {
      "image/png": {
       "height": 420,
       "width": 420
      }
     },
     "output_type": "display_data"
    }
   ],
   "source": [
    "ggplot(data = DeerStudy,\n",
    "       aes(x = Species, y = Weight)) +\n",
    "        geom_boxplot(fill = \"pink\") +\n",
    "        theme_minimal() +\n",
    "        ggtitle(\"My awesome boxplot hell yeah\")"
   ]
  },
  {
   "cell_type": "markdown",
   "id": "8d84d33e-8796-44de-96b1-4b752be7fc62",
   "metadata": {},
   "source": [
    "ggplot2 is a very modular way of plotting. You give commands in a sequential order, and the output of one command is passed to the command with a '+' operator."
   ]
  },
  {
   "cell_type": "markdown",
   "id": "910c3e21-f8d0-43aa-98aa-61c7882eef3c",
   "metadata": {},
   "source": [
    "The first block (before the + sign) specifies the data we want to use and how we want to use it. Using + signs, we can add extra options, for example the style of plot. You can really go crazy with the customizations!"
   ]
  },
  {
   "cell_type": "code",
   "execution_count": 90,
   "id": "316dd5c9-f806-4a97-b37e-7445f65b6d30",
   "metadata": {
    "vscode": {
     "languageId": "r"
    }
   },
   "outputs": [
    {
     "data": {
      "image/png": "[encoded data removed]",
      "text/plain": [
       "plot without title"
      ]
     },
     "metadata": {
      "image/png": {
       "height": 420,
       "width": 420
      }
     },
     "output_type": "display_data"
    }
   ],
   "source": [
    "ggplot(data = DeerStudy, \n",
    "       aes(x = Species, y = Weight, fill = Species)) +\n",
    "        geom_boxplot() +\n",
    "        scale_fill_manual(values = c(\"steelblue\", \"darkgreen\")) +\n",
    "        theme_minimal() +\n",
    "        labs(title = \"hello im awesome\",\n",
    "            x = \"Species\",\n",
    "            y = \"Weight (kg)\")\n",
    "        "
   ]
  },
  {
   "cell_type": "markdown",
   "id": "9295e5bb-1c71-4831-88f5-75d2166b2a01",
   "metadata": {},
   "source": [
    "There are several excellent resources for learning about ggplot2. Try to play around with them. For example: https://rstudio.github.io/cheatsheets/html/data-visualization.html"
   ]
  },
  {
   "cell_type": "markdown",
   "id": "3da06e77-614e-42da-b9cf-157a7fea72e3",
   "metadata": {},
   "source": [
    "You have encountered some basic plotting functions in R. You have learned the tilde operator. You have learned how to search the help documentation."
   ]
  },
  {
   "cell_type": "markdown",
   "id": "66fb8cb2-317b-4a2a-948d-8e449fc2651b",
   "metadata": {},
   "source": [
    "# Part 4 - Indexing and basic statistics"
   ]
  },
  {
   "cell_type": "markdown",
   "id": "50f48782-ca8d-435f-af20-6f01228c3a50",
   "metadata": {},
   "source": [
    "R is a statistical language, and so it has functions for running statistical operations and models."
   ]
  },
  {
   "cell_type": "markdown",
   "id": "3e477b15-ea0e-4643-8566-17f0a08d0dfc",
   "metadata": {},
   "source": [
    "We can calculate the average a of variable:"
   ]
  },
  {
   "cell_type": "code",
   "execution_count": 93,
   "id": "a6604c10-f68e-47fc-bed9-23bf9517abc6",
   "metadata": {
    "vscode": {
     "languageId": "r"
    }
   },
   "outputs": [
    {
     "data": {
      "text/html": [
       "66.1759154327717"
      ],
      "text/latex": [
       "66.1759154327717"
      ],
      "text/markdown": [
       "66.1759154327717"
      ],
      "text/plain": [
       "[1] 66.17592"
      ]
     },
     "metadata": {},
     "output_type": "display_data"
    }
   ],
   "source": [
    "mean(Weight)"
   ]
  },
  {
   "cell_type": "markdown",
   "id": "1d89257f-15ce-43ed-8f06-2d3d27661a62",
   "metadata": {},
   "source": [
    "Sometimes we are interested in sorting or carving our data up, and doing stats on a part of it. We can use indexing for this. For example, we might just want the average of each species in our study"
   ]
  },
  {
   "cell_type": "markdown",
   "id": "a56ecdb1-3f3e-466a-ba70-f9c324648a89",
   "metadata": {},
   "source": [
    "Let's look at how to extract weights for either just the Deers or the Reindeers in our study"
   ]
  },
  {
   "cell_type": "code",
   "execution_count": 98,
   "id": "9facde6b-0bcf-4f3f-8c63-21dd37d7b64d",
   "metadata": {
    "vscode": {
     "languageId": "r"
    }
   },
   "outputs": [
    {
     "data": {
      "text/html": [
       "54.7335149811156"
      ],
      "text/latex": [
       "54.7335149811156"
      ],
      "text/markdown": [
       "54.7335149811156"
      ],
      "text/plain": [
       "[1] 54.73351"
      ]
     },
     "metadata": {},
     "output_type": "display_data"
    },
    {
     "data": {
      "text/html": [
       "77.6183158844278"
      ],
      "text/latex": [
       "77.6183158844278"
      ],
      "text/markdown": [
       "77.6183158844278"
      ],
      "text/plain": [
       "[1] 77.61832"
      ]
     },
     "metadata": {},
     "output_type": "display_data"
    }
   ],
   "source": [
    "mean(Weight[Species == \"Deer\"])\n",
    "mean(Weight[Species == \"Reindeer\"])"
   ]
  },
  {
   "cell_type": "markdown",
   "id": "57b547cd-5282-4214-a1a2-297ad830097f",
   "metadata": {},
   "source": [
    "...so that we can compare the average weight"
   ]
  },
  {
   "cell_type": "code",
   "execution_count": null,
   "id": "9990886d-6ac5-4e29-85de-747d0ad4c3c1",
   "metadata": {
    "vscode": {
     "languageId": "r"
    }
   },
   "outputs": [],
   "source": []
  },
  {
   "cell_type": "code",
   "execution_count": null,
   "id": "6689c4fe-896a-4e30-b11c-6956925256bf",
   "metadata": {
    "vscode": {
     "languageId": "r"
    }
   },
   "outputs": [],
   "source": []
  },
  {
   "cell_type": "markdown",
   "id": "9f166575-3af4-4bff-9631-9916303268b5",
   "metadata": {},
   "source": [
    "Indexing is incredibly useful. You need to know it. But it is awkward for data frames. We can make a table instead using some basic data manipulation functions. This new table is a new data frame"
   ]
  },
  {
   "cell_type": "code",
   "execution_count": 107,
   "id": "91510085-e3e0-4206-8b29-6ebe57db237f",
   "metadata": {
    "vscode": {
     "languageId": "r"
    }
   },
   "outputs": [
    {
     "data": {
      "text/html": [
       "<table class=\"dataframe\">\n",
       "<caption>A tibble: 2 × 2</caption>\n",
       "<thead>\n",
       "\t<tr><th scope=col>Species</th><th scope=col>MeanWeight</th></tr>\n",
       "\t<tr><th scope=col>&lt;chr&gt;</th><th scope=col>&lt;dbl&gt;</th></tr>\n",
       "</thead>\n",
       "<tbody>\n",
       "\t<tr><td>Deer    </td><td>54.73351</td></tr>\n",
       "\t<tr><td>Reindeer</td><td>77.61832</td></tr>\n",
       "</tbody>\n",
       "</table>\n"
      ],
      "text/latex": [
       "A tibble: 2 × 2\n",
       "\\begin{tabular}{ll}\n",
       " Species & MeanWeight\\\\\n",
       " <chr> & <dbl>\\\\\n",
       "\\hline\n",
       "\t Deer     & 54.73351\\\\\n",
       "\t Reindeer & 77.61832\\\\\n",
       "\\end{tabular}\n"
      ],
      "text/markdown": [
       "\n",
       "A tibble: 2 × 2\n",
       "\n",
       "| Species &lt;chr&gt; | MeanWeight &lt;dbl&gt; |\n",
       "|---|---|\n",
       "| Deer     | 54.73351 |\n",
       "| Reindeer | 77.61832 |\n",
       "\n"
      ],
      "text/plain": [
       "  Species  MeanWeight\n",
       "1 Deer     54.73351  \n",
       "2 Reindeer 77.61832  "
      ]
     },
     "metadata": {},
     "output_type": "display_data"
    }
   ],
   "source": [
    "meanTable <- DeerStudy %>%\n",
    "    group_by(Species) %>%\n",
    "    summarize(MeanWeight = mean(Weight))\n",
    "\n",
    "meanTable"
   ]
  },
  {
   "cell_type": "markdown",
   "id": "f31aed63-90b9-497f-8baf-e034626dff8c",
   "metadata": {},
   "source": [
    "This is the exact same logic as with the plotting. First you define the data you are working on, then you sequentially operate on it. This is called \"piping\"."
   ]
  },
  {
   "cell_type": "markdown",
   "id": "cd8557f1-fb50-4db7-a6cc-834c89d809dd",
   "metadata": {},
   "source": [
    "The mean is only one statistic. We can also look at other statistics. How about the median?"
   ]
  },
  {
   "cell_type": "code",
   "execution_count": 113,
   "id": "7184cb98-8833-4e9b-945d-73c6276a1e16",
   "metadata": {
    "vscode": {
     "languageId": "r"
    }
   },
   "outputs": [
    {
     "data": {
      "text/html": [
       "<table class=\"dataframe\">\n",
       "<caption>A tibble: 2 × 2</caption>\n",
       "<thead>\n",
       "\t<tr><th scope=col>Species</th><th scope=col>medianWeight</th></tr>\n",
       "\t<tr><th scope=col>&lt;chr&gt;</th><th scope=col>&lt;dbl&gt;</th></tr>\n",
       "</thead>\n",
       "<tbody>\n",
       "\t<tr><td>Deer    </td><td>56.41751</td></tr>\n",
       "\t<tr><td>Reindeer</td><td>75.87288</td></tr>\n",
       "</tbody>\n",
       "</table>\n"
      ],
      "text/latex": [
       "A tibble: 2 × 2\n",
       "\\begin{tabular}{ll}\n",
       " Species & medianWeight\\\\\n",
       " <chr> & <dbl>\\\\\n",
       "\\hline\n",
       "\t Deer     & 56.41751\\\\\n",
       "\t Reindeer & 75.87288\\\\\n",
       "\\end{tabular}\n"
      ],
      "text/markdown": [
       "\n",
       "A tibble: 2 × 2\n",
       "\n",
       "| Species &lt;chr&gt; | medianWeight &lt;dbl&gt; |\n",
       "|---|---|\n",
       "| Deer     | 56.41751 |\n",
       "| Reindeer | 75.87288 |\n",
       "\n"
      ],
      "text/plain": [
       "  Species  medianWeight\n",
       "1 Deer     56.41751    \n",
       "2 Reindeer 75.87288    "
      ]
     },
     "metadata": {},
     "output_type": "display_data"
    }
   ],
   "source": [
    "medianTable <- DeerStudy %>%\n",
    "    group_by(Species) %>%\n",
    "    summarize(medianWeight = median(Weight))\n",
    "\n",
    "medianTable"
   ]
  },
  {
   "cell_type": "markdown",
   "id": "d83c236f-8520-4227-aa14-459142bd1c0a",
   "metadata": {},
   "source": [
    "We can also look at the standard deviation."
   ]
  },
  {
   "cell_type": "code",
   "execution_count": 114,
   "id": "a56f9cc9-7436-4384-8568-5d171d4b3efb",
   "metadata": {
    "vscode": {
     "languageId": "r"
    }
   },
   "outputs": [
    {
     "data": {
      "text/html": [
       "<table class=\"dataframe\">\n",
       "<caption>A tibble: 2 × 2</caption>\n",
       "<thead>\n",
       "\t<tr><th scope=col>Species</th><th scope=col>SDWeight</th></tr>\n",
       "\t<tr><th scope=col>&lt;chr&gt;</th><th scope=col>&lt;dbl&gt;</th></tr>\n",
       "</thead>\n",
       "<tbody>\n",
       "\t<tr><td>Deer    </td><td>9.710848</td></tr>\n",
       "\t<tr><td>Reindeer</td><td>9.039238</td></tr>\n",
       "</tbody>\n",
       "</table>\n"
      ],
      "text/latex": [
       "A tibble: 2 × 2\n",
       "\\begin{tabular}{ll}\n",
       " Species & SDWeight\\\\\n",
       " <chr> & <dbl>\\\\\n",
       "\\hline\n",
       "\t Deer     & 9.710848\\\\\n",
       "\t Reindeer & 9.039238\\\\\n",
       "\\end{tabular}\n"
      ],
      "text/markdown": [
       "\n",
       "A tibble: 2 × 2\n",
       "\n",
       "| Species &lt;chr&gt; | SDWeight &lt;dbl&gt; |\n",
       "|---|---|\n",
       "| Deer     | 9.710848 |\n",
       "| Reindeer | 9.039238 |\n",
       "\n"
      ],
      "text/plain": [
       "  Species  SDWeight\n",
       "1 Deer     9.710848\n",
       "2 Reindeer 9.039238"
      ]
     },
     "metadata": {},
     "output_type": "display_data"
    }
   ],
   "source": [
    "SDTable <- DeerStudy %>%\n",
    "    group_by(Species) %>%\n",
    "    summarize(SDWeight = sd(Weight))\n",
    "\n",
    "SDTable"
   ]
  },
  {
   "cell_type": "markdown",
   "id": "7d9851c2-683b-4162-8228-8ca6df4e8645",
   "metadata": {},
   "source": [
    "Now we are almost ready to do some statistics. We will cover statistical concepts in the next lecture. BUt as a teaser, let's look at a quick comparison, and see if these means are really different."
   ]
  },
  {
   "cell_type": "code",
   "execution_count": 116,
   "id": "34100bd1-d979-4fd9-a31b-c552ab8cd97c",
   "metadata": {
    "vscode": {
     "languageId": "r"
    }
   },
   "outputs": [
    {
     "data": {
      "text/plain": [
       "\n",
       "\tWelch Two Sample t-test\n",
       "\n",
       "data:  Weight1 and Weight2\n",
       "t = -9.448, df = 57.705, p-value = 2.562e-13\n",
       "alternative hypothesis: true difference in means is not equal to 0\n",
       "95 percent confidence interval:\n",
       " -27.73385 -18.03576\n",
       "sample estimates:\n",
       "mean of x mean of y \n",
       " 54.73351  77.61832 \n"
      ]
     },
     "metadata": {},
     "output_type": "display_data"
    }
   ],
   "source": [
    "t.test(Weight1, Weight2)"
   ]
  },
  {
   "cell_type": "markdown",
   "id": "504a0793-73b2-481f-95ec-1f32b062a737",
   "metadata": {},
   "source": [
    "You have learned about indexing. You have learned about basic statistical functions. You have learned how to generate summary tables. You have run your first statistical simulation, and your first hypothesis test."
   ]
  }
 ],
 "metadata": {
  "kernelspec": {
   "display_name": "R",
   "language": "R",
   "name": "ir"
  },
  "language_info": {
   "codemirror_mode": "r",
   "file_extension": ".r",
   "mimetype": "text/x-r-source",
   "name": "R",
   "pygments_lexer": "r",
   "version": "4.4.1"
  }
 },
 "nbformat": 4,
 "nbformat_minor": 5
}
