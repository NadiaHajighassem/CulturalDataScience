{
 "cells": [
  {
   "cell_type": "code",
   "execution_count": 1,
   "id": "d699580b-2d97-4930-93c2-fa91f761bca0",
   "metadata": {},
   "outputs": [
    {
     "name": "stdout",
     "output_type": "stream",
     "text": [
      "3\n"
     ]
    }
   ],
   "source": [
    "a = 1\n",
    "b = 2\n",
    "\n",
    "c = a+b\n",
    "\n",
    "print(c)"
   ]
  },
  {
   "cell_type": "code",
   "execution_count": 2,
   "id": "d73c4047-b516-432b-b811-28187c32dd4c",
   "metadata": {},
   "outputs": [],
   "source": [
    "# hi i hope this works"
   ]
  },
  {
   "cell_type": "code",
   "execution_count": null,
   "id": "347394d5-e0f1-4100-aa97-7b34b8a2368c",
   "metadata": {},
   "outputs": [],
   "source": []
  }
 ],
 "metadata": {
  "kernelspec": {
   "display_name": "Python 3 ",
   "language": "python",
   "name": "python3"
  },
  "language_info": {
   "codemirror_mode": {
    "name": "ipython",
    "version": 3
   },
   "file_extension": ".py",
   "mimetype": "text/x-python",
   "name": "python",
   "nbconvert_exporter": "python",
   "pygments_lexer": "ipython3",
   "version": "3.10.14"
  }
 },
 "nbformat": 4,
 "nbformat_minor": 5
}
