{
 "cells": [
  {
   "cell_type": "markdown",
   "id": "dae0cb3b-5765-44ec-a287-ef05fe44ab3a",
   "metadata": {},
   "source": [
    "# Chapter 7 and 8 - variables and for loops"
   ]
  },
  {
   "cell_type": "code",
   "execution_count": 11,
   "id": "d79114cf-3f29-499d-a82c-1048d98300c4",
   "metadata": {},
   "outputs": [
    {
     "name": "stdout",
     "output_type": "stream",
     "text": [
      "i have added 1 spoons of salt\n",
      "i have added 2 spoons of salt\n",
      "i have added 3 spoons of salt\n",
      "i have added 4 spoons of salt\n"
     ]
    }
   ],
   "source": [
    "# while loop\n",
    "\n",
    "salt_enough = 4\n",
    "num_salt_spoons = 0\n",
    "\n",
    "while salt_enough > num_salt_spoons:\n",
    "    num_salt_spoons = num_salt_spoons + 1\n",
    "    print(\"i have added\", num_salt_spoons , \"spoons of salt\")\n",
    "\n",
    "# while loops are useful, because they can perform the same action untill a certain condition is met"
   ]
  },
  {
   "cell_type": "code",
   "execution_count": 13,
   "id": "0890690e-40b1-4f5a-9db7-c53d635addc4",
   "metadata": {},
   "outputs": [
    {
     "name": "stdout",
     "output_type": "stream",
     "text": [
      "i cracked and egg\n",
      "i cracked and egg\n",
      "i cracked and egg\n"
     ]
    }
   ],
   "source": [
    "# for loops\n",
    "eggs = [\"egg\", \"egg\", \"egg\"]\n",
    "\n",
    "for egg in eggs:\n",
    "    print('i cracked and egg')\n",
    "\n",
    "# we can use for loops to step through a series of items, and do the same thing with each one"
   ]
  },
  {
   "cell_type": "code",
   "execution_count": 14,
   "id": "b0e7db2b-1ce4-4aec-86b0-8583b5d05bcd",
   "metadata": {},
   "outputs": [
    {
     "name": "stdout",
     "output_type": "stream",
     "text": [
      "time to leave early\n"
     ]
    }
   ],
   "source": [
    "# conditional \n",
    "day = \"Wednesday\"\n",
    "\n",
    "if day == \"Wednesday\":\n",
    "    print(\"time to leave early\")"
   ]
  },
  {
   "cell_type": "code",
   "execution_count": 18,
   "id": "5c0fd77c-0059-4e45-bd15-6c3b14f1aef6",
   "metadata": {},
   "outputs": [
    {
     "name": "stdout",
     "output_type": "stream",
     "text": [
      "hooray\n",
      "its friday yeaaahh\n"
     ]
    }
   ],
   "source": [
    "# for loop and conditional statements\n",
    "\n",
    "week = [\"wednesday\", \"friday\"]\n",
    "\n",
    "for day in week:\n",
    "    if day == \"wednesday\":\n",
    "        print(\"hooray\")\n",
    "    else:\n",
    "        print(\"its friday yeaaahh\")\n",
    "\n"
   ]
  },
  {
   "cell_type": "code",
   "execution_count": 27,
   "id": "cd566ab3-deb3-4006-9260-1e943ee7f7e2",
   "metadata": {},
   "outputs": [],
   "source": [
    "# functions\n",
    "def measure_word(word):\n",
    "    letter_count = 0\n",
    "    for letter in word:\n",
    "        letter_count = letter_count + 1\n",
    "    print('There are', letter_count, 'letters in', word)"
   ]
  },
  {
   "cell_type": "code",
   "execution_count": 28,
   "id": "3d3187a8-27e7-4395-b8a1-a33022b0c144",
   "metadata": {},
   "outputs": [
    {
     "name": "stdout",
     "output_type": "stream",
     "text": [
      "There are 5 letters in house\n"
     ]
    }
   ],
   "source": [
    "measure_word('house')"
   ]
  },
  {
   "cell_type": "code",
   "execution_count": 29,
   "id": "c8354269-c827-49c7-b4ce-e20f724968a5",
   "metadata": {},
   "outputs": [],
   "source": [
    "def measure_word(word):\n",
    "    letter_count = 0\n",
    "    for letter in word:\n",
    "        letter_count = letter_count + 1\n",
    "    return('There are', letter_count, 'letters in', word)"
   ]
  },
  {
   "cell_type": "code",
   "execution_count": 30,
   "id": "26ee374a-11c8-441c-8ea3-d86c54f5081d",
   "metadata": {},
   "outputs": [],
   "source": [
    "output = measure_word('cat')"
   ]
  },
  {
   "cell_type": "code",
   "execution_count": 32,
   "id": "2b89b3af-4a01-4881-a1cf-59d8f45e74de",
   "metadata": {},
   "outputs": [
    {
     "data": {
      "text/plain": [
       "tuple"
      ]
     },
     "execution_count": 32,
     "metadata": {},
     "output_type": "execute_result"
    }
   ],
   "source": [
    "type(output)"
   ]
  },
  {
   "cell_type": "code",
   "execution_count": 33,
   "id": "9ce585cf-8bf0-462c-a643-253a34333cb9",
   "metadata": {},
   "outputs": [
    {
     "name": "stdout",
     "output_type": "stream",
     "text": [
      "('There are', 3, 'letters in', 'cat')\n"
     ]
    }
   ],
   "source": [
    "print(output)"
   ]
  },
  {
   "cell_type": "code",
   "execution_count": null,
   "id": "33d5508c-11b5-49e4-8bfc-0cfd851d6f71",
   "metadata": {},
   "outputs": [],
   "source": []
  }
 ],
 "metadata": {
  "kernelspec": {
   "display_name": "Python 3 ",
   "language": "python",
   "name": "python3"
  },
  "language_info": {
   "codemirror_mode": {
    "name": "ipython",
    "version": 3
   },
   "file_extension": ".py",
   "mimetype": "text/x-python",
   "name": "python",
   "nbconvert_exporter": "python",
   "pygments_lexer": "ipython3",
   "version": "3.10.14"
  }
 },
 "nbformat": 4,
 "nbformat_minor": 5
}
